{
  "nbformat": 4,
  "nbformat_minor": 0,
  "metadata": {
    "colab": {
      "provenance": []
    },
    "kernelspec": {
      "name": "python3",
      "display_name": "Python 3"
    },
    "language_info": {
      "name": "python"
    }
  },
  "cells": [
    {
      "cell_type": "markdown",
      "source": [
        "Arquivo vendas"
      ],
      "metadata": {
        "id": "LxW71oFMM8xQ"
      }
    },
    {
      "cell_type": "code",
      "execution_count": 1,
      "metadata": {
        "colab": {
          "base_uri": "https://localhost:8080/",
          "height": 0
        },
        "id": "7ImIFjLx_DVt",
        "outputId": "019376cb-fea8-4640-ce8b-103622477424"
      },
      "outputs": [
        {
          "output_type": "stream",
          "name": "stdout",
          "text": [
            "Requirement already satisfied: pandas in /usr/local/lib/python3.11/dist-packages (2.2.2)\n",
            "Requirement already satisfied: numpy in /usr/local/lib/python3.11/dist-packages (2.0.2)\n",
            "Requirement already satisfied: openpyxl in /usr/local/lib/python3.11/dist-packages (3.1.5)\n",
            "Requirement already satisfied: python-dateutil>=2.8.2 in /usr/local/lib/python3.11/dist-packages (from pandas) (2.8.2)\n",
            "Requirement already satisfied: pytz>=2020.1 in /usr/local/lib/python3.11/dist-packages (from pandas) (2025.2)\n",
            "Requirement already satisfied: tzdata>=2022.7 in /usr/local/lib/python3.11/dist-packages (from pandas) (2025.2)\n",
            "Requirement already satisfied: et-xmlfile in /usr/local/lib/python3.11/dist-packages (from openpyxl) (2.0.0)\n",
            "Requirement already satisfied: six>=1.5 in /usr/local/lib/python3.11/dist-packages (from python-dateutil>=2.8.2->pandas) (1.17.0)\n"
          ]
        }
      ],
      "source": [
        "pip install pandas numpy openpyxl"
      ]
    },
    {
      "cell_type": "code",
      "source": [
        "import pandas as pd\n",
        "\n",
        "# Criar dados hipotéticos\n",
        "dados_vendas = {\n",
        "    \"Região\": [\"Norte\", \"Norte\", \"Sul\", \"Sul\", \"Norte\"],\n",
        "    \"Mês\": [\"Jan\", \"Fev\", \"Jan\", \"Fev\", \"Mar\"],\n",
        "    \"Vendas\": [1500, None, 2200, 1800, 2000],\n",
        "    \"Despesas\": [300, 250, None, 400, 350]\n",
        "}\n",
        "\n",
        "# Criar DataFrame e salvar como Excel\n",
        "df_vendas = pd.DataFrame(dados_vendas)\n",
        "df_vendas.to_excel(\"vendas.xlsx\", index=False)\n",
        "print(\"Arquivo vendas.xlsx criado com sucesso!\")"
      ],
      "metadata": {
        "colab": {
          "base_uri": "https://localhost:8080/",
          "height": 0
        },
        "id": "obT38MbpNPnK",
        "outputId": "798b09db-66e4-4020-fd3d-bcd3eb843808"
      },
      "execution_count": 2,
      "outputs": [
        {
          "output_type": "stream",
          "name": "stdout",
          "text": [
            "Arquivo vendas.xlsx criado com sucesso!\n"
          ]
        }
      ]
    },
    {
      "cell_type": "code",
      "source": [
        "df = pd.read_excel(\"vendas.xlsx\")\n",
        "print(\"Dados carregados:\")\n",
        "print(df)"
      ],
      "metadata": {
        "colab": {
          "base_uri": "https://localhost:8080/"
        },
        "id": "AeXZyoi3c-BQ",
        "outputId": "a13f577b-273c-4c41-c5b5-904cf822fc1f"
      },
      "execution_count": 9,
      "outputs": [
        {
          "output_type": "stream",
          "name": "stdout",
          "text": [
            "Dados carregados:\n",
            "  Região  Mês  Vendas  Despesas\n",
            "0  Norte  Jan  1500.0     300.0\n",
            "1  Norte  Fev     NaN     250.0\n",
            "2    Sul  Jan  2200.0       NaN\n",
            "3    Sul  Fev  1800.0     400.0\n",
            "4  Norte  Mar  2000.0     350.0\n"
          ]
        }
      ]
    },
    {
      "cell_type": "markdown",
      "source": [
        "Inspecionando dados"
      ],
      "metadata": {
        "id": "VpFEFaB2RTa-"
      }
    },
    {
      "cell_type": "code",
      "source": [
        "import pandas as pd\n",
        "\n",
        "# Carregar o arquivo Excel\n",
        "df = pd.read_excel(\"vendas.xlsx\")\n",
        "\n",
        "# Inspecionar os dados\n",
        "print(\"Primeiras linhas do DataFrame:\")\n",
        "print(df.head())  # Mostra as 5 primeiras linhas\n",
        "\n",
        "print(\"\\nInformações gerais:\")\n",
        "print(df.info())  # Mostra tipos de dados e valores ausentes\n",
        "\n",
        "print(\"\\nValores ausentes por coluna:\")\n",
        "print(df.isnull().sum())  # Conta valores NaN"
      ],
      "metadata": {
        "colab": {
          "base_uri": "https://localhost:8080/",
          "height": 0
        },
        "id": "-5bByRGfRVLK",
        "outputId": "a995a54f-1e68-4b03-ab2c-2c7d6d273410"
      },
      "execution_count": 3,
      "outputs": [
        {
          "output_type": "stream",
          "name": "stdout",
          "text": [
            "Primeiras linhas do DataFrame:\n",
            "  Região  Mês  Vendas  Despesas\n",
            "0  Norte  Jan  1500.0     300.0\n",
            "1  Norte  Fev     NaN     250.0\n",
            "2    Sul  Jan  2200.0       NaN\n",
            "3    Sul  Fev  1800.0     400.0\n",
            "4  Norte  Mar  2000.0     350.0\n",
            "\n",
            "Informações gerais:\n",
            "<class 'pandas.core.frame.DataFrame'>\n",
            "RangeIndex: 5 entries, 0 to 4\n",
            "Data columns (total 4 columns):\n",
            " #   Column    Non-Null Count  Dtype  \n",
            "---  ------    --------------  -----  \n",
            " 0   Região    5 non-null      object \n",
            " 1   Mês       5 non-null      object \n",
            " 2   Vendas    4 non-null      float64\n",
            " 3   Despesas  4 non-null      float64\n",
            "dtypes: float64(2), object(2)\n",
            "memory usage: 292.0+ bytes\n",
            "None\n",
            "\n",
            "Valores ausentes por coluna:\n",
            "Região      0\n",
            "Mês         0\n",
            "Vendas      1\n",
            "Despesas    1\n",
            "dtype: int64\n"
          ]
        }
      ]
    },
    {
      "cell_type": "markdown",
      "source": [
        "Valores ausentes"
      ],
      "metadata": {
        "id": "LxKvE0I3WPdw"
      }
    },
    {
      "cell_type": "code",
      "source": [
        "# Calcular mediana de Vendas\n",
        "mediana_vendas = df[\"Vendas\"].median()\n",
        "# Substituir NA em Vendas pela mediana\n",
        "df[\"Vendas\"] = df[\"Vendas\"].fillna(mediana_vendas)\n",
        "\n",
        "# Calcular média de Despesas\n",
        "media_despesas = df[\"Despesas\"].mean()\n",
        "# Substituir NA em Despesas pela média\n",
        "df[\"Despesas\"] = df[\"Despesas\"].fillna(media_despesas)\n",
        "\n",
        "# Verificar se ainda há valores ausentes\n",
        "print(\"Valores ausentes após substituição:\")\n",
        "print(df.isnull().sum())\n",
        "\n",
        "# Mostrar DataFrame atualizado\n",
        "print(\"\\nDataFrame após substituição:\")\n",
        "print(df)"
      ],
      "metadata": {
        "colab": {
          "base_uri": "https://localhost:8080/",
          "height": 0
        },
        "id": "gw7HmUzHWRqD",
        "outputId": "3ef36919-a8d4-4474-dfb0-6c12a7804b8f"
      },
      "execution_count": 4,
      "outputs": [
        {
          "output_type": "stream",
          "name": "stdout",
          "text": [
            "Valores ausentes após substituição:\n",
            "Região      0\n",
            "Mês         0\n",
            "Vendas      0\n",
            "Despesas    0\n",
            "dtype: int64\n",
            "\n",
            "DataFrame após substituição:\n",
            "  Região  Mês  Vendas  Despesas\n",
            "0  Norte  Jan  1500.0     300.0\n",
            "1  Norte  Fev  1900.0     250.0\n",
            "2    Sul  Jan  2200.0     325.0\n",
            "3    Sul  Fev  1800.0     400.0\n",
            "4  Norte  Mar  2000.0     350.0\n"
          ]
        }
      ]
    },
    {
      "cell_type": "markdown",
      "source": [
        "Agrupar por região"
      ],
      "metadata": {
        "id": "RRhNJGRNYtfw"
      }
    },
    {
      "cell_type": "code",
      "source": [
        "# Agrupar por Região e Mês\n",
        "grupo = df.groupby([\"Região\", \"Mês\"])\n",
        "\n",
        "# Calcular soma de Vendas\n",
        "soma_vendas = grupo[\"Vendas\"].sum()\n",
        "\n",
        "# Calcular média de Despesas\n",
        "media_despesas = grupo[\"Despesas\"].mean()\n",
        "\n",
        "# Exibir resultados\n",
        "print(\"Soma total de Vendas por Região e Mês:\")\n",
        "print(soma_vendas)\n",
        "print(\"\\nMédia de Despesas por Região e Mês:\")\n",
        "print(media_despesas)"
      ],
      "metadata": {
        "colab": {
          "base_uri": "https://localhost:8080/",
          "height": 0
        },
        "id": "WdTE7R24YxeK",
        "outputId": "0781cf56-6b23-4495-aeca-c0de4ac2b9c6"
      },
      "execution_count": 5,
      "outputs": [
        {
          "output_type": "stream",
          "name": "stdout",
          "text": [
            "Soma total de Vendas por Região e Mês:\n",
            "Região  Mês\n",
            "Norte   Fev    1900.0\n",
            "        Jan    1500.0\n",
            "        Mar    2000.0\n",
            "Sul     Fev    1800.0\n",
            "        Jan    2200.0\n",
            "Name: Vendas, dtype: float64\n",
            "\n",
            "Média de Despesas por Região e Mês:\n",
            "Região  Mês\n",
            "Norte   Fev    250.0\n",
            "        Jan    300.0\n",
            "        Mar    350.0\n",
            "Sul     Fev    400.0\n",
            "        Jan    325.0\n",
            "Name: Despesas, dtype: float64\n"
          ]
        }
      ]
    },
    {
      "cell_type": "markdown",
      "source": [
        "Combinação de colunas"
      ],
      "metadata": {
        "id": "VgkBq36TZLhu"
      }
    },
    {
      "cell_type": "code",
      "source": [
        "import numpy as np\n",
        "\n",
        "# Extrair colunas Vendas e Despesas como arrays\n",
        "vendas_array = df[\"Vendas\"].values\n",
        "despesas_array = df[\"Despesas\"].values\n",
        "\n",
        "# Combinar horizontalmente\n",
        "combinado_h = np.hstack((vendas_array, despesas_array))\n",
        "\n",
        "# Exibir resultado\n",
        "print(\"Combinação das colunas Vendas e Despesas:\")\n",
        "print(combinado_h)"
      ],
      "metadata": {
        "colab": {
          "base_uri": "https://localhost:8080/",
          "height": 0
        },
        "id": "pHJvm8A9ZOYp",
        "outputId": "cc9232c6-efc7-469f-bc88-1adcdc61d788"
      },
      "execution_count": 7,
      "outputs": [
        {
          "output_type": "stream",
          "name": "stdout",
          "text": [
            "Combinação das colunas Vendas e Despesas:\n",
            "[1500. 1900. 2200. 1800. 2000.  300.  250.  325.  400.  350.]\n"
          ]
        }
      ]
    },
    {
      "cell_type": "markdown",
      "source": [
        "Sumário estatístico"
      ],
      "metadata": {
        "id": "8ceu4175ZbDQ"
      }
    },
    {
      "cell_type": "code",
      "source": [
        "# Gerar sumário estatístico\n",
        "sumario = df[[\"Vendas\", \"Despesas\"]].describe()\n",
        "\n",
        "# Exibir sumário completo\n",
        "print(\"Sumário estatístico:\")\n",
        "print(sumario)\n",
        "\n",
        "# Extrair apenas média, mediana e desvio padrão\n",
        "print(\"\\nSumário simplificado:\")\n",
        "print(\"Média:\")\n",
        "print(df[[\"Vendas\", \"Despesas\"]].mean())\n",
        "print(\"\\nMediana:\")\n",
        "print(df[[\"Vendas\", \"Despesas\"]].median())\n",
        "print(\"\\nDesvio Padrão:\")\n",
        "print(df[[\"Vendas\", \"Despesas\"]].std())"
      ],
      "metadata": {
        "colab": {
          "base_uri": "https://localhost:8080/",
          "height": 0
        },
        "id": "WywDYp8oZdIh",
        "outputId": "f2a4ff60-3294-4f54-d12b-d2e0405c71d4"
      },
      "execution_count": 8,
      "outputs": [
        {
          "output_type": "stream",
          "name": "stdout",
          "text": [
            "Sumário estatístico:\n",
            "            Vendas    Despesas\n",
            "count     5.000000    5.000000\n",
            "mean   1880.000000  325.000000\n",
            "std     258.843582   55.901699\n",
            "min    1500.000000  250.000000\n",
            "25%    1800.000000  300.000000\n",
            "50%    1900.000000  325.000000\n",
            "75%    2000.000000  350.000000\n",
            "max    2200.000000  400.000000\n",
            "\n",
            "Sumário simplificado:\n",
            "Média:\n",
            "Vendas      1880.0\n",
            "Despesas     325.0\n",
            "dtype: float64\n",
            "\n",
            "Mediana:\n",
            "Vendas      1900.0\n",
            "Despesas     325.0\n",
            "dtype: float64\n",
            "\n",
            "Desvio Padrão:\n",
            "Vendas      258.843582\n",
            "Despesas     55.901699\n",
            "dtype: float64\n"
          ]
        }
      ]
    }
  ]
}